{
 "cells": [
  {
   "cell_type": "code",
   "execution_count": 4,
   "id": "initial_id",
   "metadata": {
    "ExecuteTime": {
     "end_time": "2025-01-14T03:23:10.350666Z",
     "start_time": "2025-01-14T03:23:10.347340Z"
    },
    "collapsed": true
   },
   "outputs": [],
   "source": [
    "import lancedb"
   ]
  },
  {
   "cell_type": "code",
   "execution_count": 5,
   "id": "fe692362adfd229",
   "metadata": {
    "ExecuteTime": {
     "end_time": "2025-01-14T03:23:50.413601Z",
     "start_time": "2025-01-14T03:23:50.395103Z"
    }
   },
   "outputs": [],
   "source": [
    "db = lancedb.connect(\"../lancedb\")"
   ]
  },
  {
   "cell_type": "code",
   "execution_count": 6,
   "id": "ed0858ddbc4c6959",
   "metadata": {
    "ExecuteTime": {
     "end_time": "2025-01-14T03:23:54.836120Z",
     "start_time": "2025-01-14T03:23:54.830265Z"
    }
   },
   "outputs": [
    {
     "data": {
      "text/plain": [
       "['666_chunk_text-embedding-3-small', 'fairy_tale_dpr_text-embedding-3-small']"
      ]
     },
     "execution_count": 6,
     "metadata": {},
     "output_type": "execute_result"
    }
   ],
   "source": [
    "db.table_names()"
   ]
  },
  {
   "cell_type": "code",
   "execution_count": 11,
   "id": "f48c440a1a12d6f4",
   "metadata": {
    "ExecuteTime": {
     "end_time": "2025-01-14T03:30:41.883596Z",
     "start_time": "2025-01-14T03:30:41.866684Z"
    }
   },
   "outputs": [
    {
     "data": {
      "text/html": [
       "<div>\n",
       "<style scoped>\n",
       "    .dataframe tbody tr th:only-of-type {\n",
       "        vertical-align: middle;\n",
       "    }\n",
       "\n",
       "    .dataframe tbody tr th {\n",
       "        vertical-align: top;\n",
       "    }\n",
       "\n",
       "    .dataframe thead th {\n",
       "        text-align: right;\n",
       "    }\n",
       "</style>\n",
       "<table border=\"1\" class=\"dataframe\">\n",
       "  <thead>\n",
       "    <tr style=\"text-align: right;\">\n",
       "      <th></th>\n",
       "      <th>vector</th>\n",
       "      <th>id</th>\n",
       "      <th>text</th>\n",
       "      <th>metadata</th>\n",
       "    </tr>\n",
       "  </thead>\n",
       "  <tbody>\n",
       "  </tbody>\n",
       "</table>\n",
       "</div>"
      ],
      "text/plain": [
       "Empty DataFrame\n",
       "Columns: [vector, id, text, metadata]\n",
       "Index: []"
      ]
     },
     "execution_count": 11,
     "metadata": {},
     "output_type": "execute_result"
    }
   ],
   "source": [
    "db[\"666_chunk_text-embedding-3-small\"].search().to_pandas()"
   ]
  },
  {
   "cell_type": "code",
   "execution_count": null,
   "id": "cb22f1915c2fe23f",
   "metadata": {},
   "outputs": [],
   "source": []
  }
 ],
 "metadata": {
  "kernelspec": {
   "display_name": "Python 3",
   "language": "python",
   "name": "python3"
  },
  "language_info": {
   "codemirror_mode": {
    "name": "ipython",
    "version": 2
   },
   "file_extension": ".py",
   "mimetype": "text/x-python",
   "name": "python",
   "nbconvert_exporter": "python",
   "pygments_lexer": "ipython2",
   "version": "2.7.6"
  }
 },
 "nbformat": 4,
 "nbformat_minor": 5
}
